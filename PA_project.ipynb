{
 "cells": [
  {
   "cell_type": "markdown",
   "id": "cde6c8a4",
   "metadata": {},
   "source": [
    "# Predictive Analysis\n",
    "\n",
    "# Computer Vision in Healthcare- Medical image Analysis    \n",
    "\n",
    "Members:                    PRN NO              Roll No\n",
    "\n",
    "Piyush Gunde                220200080            306\n",
    "\n",
    "Shivlila Vishawkarma        0120190              309\n",
    "\n",
    "Vaishnavi Gaikwad           0120190236           320\n",
    "\n",
    "Vansh Gaikwad               0120190              312\n",
    "\n",
    "Kshitij Patil               0120190360           316\n",
    "\n",
    "\n",
    "About Dataset:\n",
    "ID, Diagnosis, radiius_mean, texture_mean,perimeter_mean....\n",
    "attribute = 30\n",
    "columns = 570\n",
    "\n",
    "It is binary-classification because output will be  in form of 0,1.\n"
   ]
  },
  {
   "cell_type": "markdown",
   "id": "5abd05bb",
   "metadata": {},
   "source": [
    "# Import modules and dataset"
   ]
  },
  {
   "cell_type": "code",
   "execution_count": 1,
   "id": "36e60a01",
   "metadata": {},
   "outputs": [],
   "source": [
    "import pandas as pd\n",
    "from matplotlib import pyplot as plt\n",
    "import seaborn as sns\n",
    "import numpy as np"
   ]
  },
  {
   "cell_type": "code",
   "execution_count": 2,
   "id": "c091e654",
   "metadata": {},
   "outputs": [],
   "source": [
    "df = pd.read_csv(\"data.csv\")"
   ]
  },
  {
   "cell_type": "markdown",
   "id": "4360a570",
   "metadata": {},
   "source": [
    "#  Data Cleaning and Analysis"
   ]
  },
  {
   "cell_type": "code",
   "execution_count": 3,
   "id": "00339c4d",
   "metadata": {},
   "outputs": [
    {
     "name": "stdout",
     "output_type": "stream",
     "text": [
      "                         count          mean           std          min  \\\n",
      "id                       569.0  3.037183e+07  1.250206e+08  8670.000000   \n",
      "radius_mean              569.0  1.412729e+01  3.524049e+00     6.981000   \n",
      "texture_mean             569.0  1.928965e+01  4.301036e+00     9.710000   \n",
      "perimeter_mean           569.0  9.196903e+01  2.429898e+01    43.790000   \n",
      "area_mean                569.0  6.548891e+02  3.519141e+02   143.500000   \n",
      "smoothness_mean          569.0  9.636028e-02  1.406413e-02     0.052630   \n",
      "compactness_mean         569.0  1.043410e-01  5.281276e-02     0.019380   \n",
      "concavity_mean           569.0  8.879932e-02  7.971981e-02     0.000000   \n",
      "concave points_mean      569.0  4.891915e-02  3.880284e-02     0.000000   \n",
      "symmetry_mean            569.0  1.811619e-01  2.741428e-02     0.106000   \n",
      "fractal_dimension_mean   569.0  6.279761e-02  7.060363e-03     0.049960   \n",
      "radius_se                569.0  4.051721e-01  2.773127e-01     0.111500   \n",
      "texture_se               569.0  1.216853e+00  5.516484e-01     0.360200   \n",
      "perimeter_se             569.0  2.866059e+00  2.021855e+00     0.757000   \n",
      "area_se                  569.0  4.033708e+01  4.549101e+01     6.802000   \n",
      "smoothness_se            569.0  7.040979e-03  3.002518e-03     0.001713   \n",
      "compactness_se           569.0  2.547814e-02  1.790818e-02     0.002252   \n",
      "concavity_se             569.0  3.189372e-02  3.018606e-02     0.000000   \n",
      "concave points_se        569.0  1.179614e-02  6.170285e-03     0.000000   \n",
      "symmetry_se              569.0  2.054230e-02  8.266372e-03     0.007882   \n",
      "fractal_dimension_se     569.0  3.794904e-03  2.646071e-03     0.000895   \n",
      "radius_worst             569.0  1.626919e+01  4.833242e+00     7.930000   \n",
      "texture_worst            569.0  2.567722e+01  6.146258e+00    12.020000   \n",
      "perimeter_worst          569.0  1.072612e+02  3.360254e+01    50.410000   \n",
      "area_worst               569.0  8.805831e+02  5.693570e+02   185.200000   \n",
      "smoothness_worst         569.0  1.323686e-01  2.283243e-02     0.071170   \n",
      "compactness_worst        569.0  2.542650e-01  1.573365e-01     0.027290   \n",
      "concavity_worst          569.0  2.721885e-01  2.086243e-01     0.000000   \n",
      "concave points_worst     569.0  1.146062e-01  6.573234e-02     0.000000   \n",
      "symmetry_worst           569.0  2.900756e-01  6.186747e-02     0.156500   \n",
      "fractal_dimension_worst  569.0  8.394582e-02  1.806127e-02     0.055040   \n",
      "Unnamed: 32                0.0           NaN           NaN          NaN   \n",
      "\n",
      "                                   25%            50%           75%  \\\n",
      "id                       869218.000000  906024.000000  8.813129e+06   \n",
      "radius_mean                  11.700000      13.370000  1.578000e+01   \n",
      "texture_mean                 16.170000      18.840000  2.180000e+01   \n",
      "perimeter_mean               75.170000      86.240000  1.041000e+02   \n",
      "area_mean                   420.300000     551.100000  7.827000e+02   \n",
      "smoothness_mean               0.086370       0.095870  1.053000e-01   \n",
      "compactness_mean              0.064920       0.092630  1.304000e-01   \n",
      "concavity_mean                0.029560       0.061540  1.307000e-01   \n",
      "concave points_mean           0.020310       0.033500  7.400000e-02   \n",
      "symmetry_mean                 0.161900       0.179200  1.957000e-01   \n",
      "fractal_dimension_mean        0.057700       0.061540  6.612000e-02   \n",
      "radius_se                     0.232400       0.324200  4.789000e-01   \n",
      "texture_se                    0.833900       1.108000  1.474000e+00   \n",
      "perimeter_se                  1.606000       2.287000  3.357000e+00   \n",
      "area_se                      17.850000      24.530000  4.519000e+01   \n",
      "smoothness_se                 0.005169       0.006380  8.146000e-03   \n",
      "compactness_se                0.013080       0.020450  3.245000e-02   \n",
      "concavity_se                  0.015090       0.025890  4.205000e-02   \n",
      "concave points_se             0.007638       0.010930  1.471000e-02   \n",
      "symmetry_se                   0.015160       0.018730  2.348000e-02   \n",
      "fractal_dimension_se          0.002248       0.003187  4.558000e-03   \n",
      "radius_worst                 13.010000      14.970000  1.879000e+01   \n",
      "texture_worst                21.080000      25.410000  2.972000e+01   \n",
      "perimeter_worst              84.110000      97.660000  1.254000e+02   \n",
      "area_worst                  515.300000     686.500000  1.084000e+03   \n",
      "smoothness_worst              0.116600       0.131300  1.460000e-01   \n",
      "compactness_worst             0.147200       0.211900  3.391000e-01   \n",
      "concavity_worst               0.114500       0.226700  3.829000e-01   \n",
      "concave points_worst          0.064930       0.099930  1.614000e-01   \n",
      "symmetry_worst                0.250400       0.282200  3.179000e-01   \n",
      "fractal_dimension_worst       0.071460       0.080040  9.208000e-02   \n",
      "Unnamed: 32                        NaN            NaN           NaN   \n",
      "\n",
      "                                  max  \n",
      "id                       9.113205e+08  \n",
      "radius_mean              2.811000e+01  \n",
      "texture_mean             3.928000e+01  \n",
      "perimeter_mean           1.885000e+02  \n",
      "area_mean                2.501000e+03  \n",
      "smoothness_mean          1.634000e-01  \n",
      "compactness_mean         3.454000e-01  \n",
      "concavity_mean           4.268000e-01  \n",
      "concave points_mean      2.012000e-01  \n",
      "symmetry_mean            3.040000e-01  \n",
      "fractal_dimension_mean   9.744000e-02  \n",
      "radius_se                2.873000e+00  \n",
      "texture_se               4.885000e+00  \n",
      "perimeter_se             2.198000e+01  \n",
      "area_se                  5.422000e+02  \n",
      "smoothness_se            3.113000e-02  \n",
      "compactness_se           1.354000e-01  \n",
      "concavity_se             3.960000e-01  \n",
      "concave points_se        5.279000e-02  \n",
      "symmetry_se              7.895000e-02  \n",
      "fractal_dimension_se     2.984000e-02  \n",
      "radius_worst             3.604000e+01  \n",
      "texture_worst            4.954000e+01  \n",
      "perimeter_worst          2.512000e+02  \n",
      "area_worst               4.254000e+03  \n",
      "smoothness_worst         2.226000e-01  \n",
      "compactness_worst        1.058000e+00  \n",
      "concavity_worst          1.252000e+00  \n",
      "concave points_worst     2.910000e-01  \n",
      "symmetry_worst           6.638000e-01  \n",
      "fractal_dimension_worst  2.075000e-01  \n",
      "Unnamed: 32                       NaN  \n"
     ]
    }
   ],
   "source": [
    "print(df.describe().T)"
   ]
  },
  {
   "cell_type": "code",
   "execution_count": 4,
   "id": "05865c5c",
   "metadata": {},
   "outputs": [
    {
     "name": "stdout",
     "output_type": "stream",
     "text": [
      "id                           0\n",
      "diagnosis                    0\n",
      "radius_mean                  0\n",
      "texture_mean                 0\n",
      "perimeter_mean               0\n",
      "area_mean                    0\n",
      "smoothness_mean              0\n",
      "compactness_mean             0\n",
      "concavity_mean               0\n",
      "concave points_mean          0\n",
      "symmetry_mean                0\n",
      "fractal_dimension_mean       0\n",
      "radius_se                    0\n",
      "texture_se                   0\n",
      "perimeter_se                 0\n",
      "area_se                      0\n",
      "smoothness_se                0\n",
      "compactness_se               0\n",
      "concavity_se                 0\n",
      "concave points_se            0\n",
      "symmetry_se                  0\n",
      "fractal_dimension_se         0\n",
      "radius_worst                 0\n",
      "texture_worst                0\n",
      "perimeter_worst              0\n",
      "area_worst                   0\n",
      "smoothness_worst             0\n",
      "compactness_worst            0\n",
      "concavity_worst              0\n",
      "concave points_worst         0\n",
      "symmetry_worst               0\n",
      "fractal_dimension_worst      0\n",
      "Unnamed: 32                569\n",
      "dtype: int64\n"
     ]
    }
   ],
   "source": [
    "print(df.isnull().sum())"
   ]
  },
  {
   "cell_type": "markdown",
   "id": "ca007ea8",
   "metadata": {},
   "source": [
    "No missing data"
   ]
  },
  {
   "cell_type": "code",
   "execution_count": 5,
   "id": "7dae10ab",
   "metadata": {},
   "outputs": [
    {
     "name": "stdout",
     "output_type": "stream",
     "text": [
      "id                           int64\n",
      "Label                       object\n",
      "radius_mean                float64\n",
      "texture_mean               float64\n",
      "perimeter_mean             float64\n",
      "area_mean                  float64\n",
      "smoothness_mean            float64\n",
      "compactness_mean           float64\n",
      "concavity_mean             float64\n",
      "concave points_mean        float64\n",
      "symmetry_mean              float64\n",
      "fractal_dimension_mean     float64\n",
      "radius_se                  float64\n",
      "texture_se                 float64\n",
      "perimeter_se               float64\n",
      "area_se                    float64\n",
      "smoothness_se              float64\n",
      "compactness_se             float64\n",
      "concavity_se               float64\n",
      "concave points_se          float64\n",
      "symmetry_se                float64\n",
      "fractal_dimension_se       float64\n",
      "radius_worst               float64\n",
      "texture_worst              float64\n",
      "perimeter_worst            float64\n",
      "area_worst                 float64\n",
      "smoothness_worst           float64\n",
      "compactness_worst          float64\n",
      "concavity_worst            float64\n",
      "concave points_worst       float64\n",
      "symmetry_worst             float64\n",
      "fractal_dimension_worst    float64\n",
      "Unnamed: 32                float64\n",
      "dtype: object\n"
     ]
    }
   ],
   "source": [
    "#Rename Datsset to label to make it easy to understand\n",
    "df = df.rename(columns = {'diagnosis':'Label'})\n",
    "print(df.dtypes)"
   ]
  },
  {
   "cell_type": "code",
   "execution_count": 8,
   "id": "f065bfe3",
   "metadata": {},
   "outputs": [
    {
     "data": {
      "text/plain": [
       "<AxesSubplot:xlabel='Label', ylabel='count'>"
      ]
     },
     "execution_count": 8,
     "metadata": {},
     "output_type": "execute_result"
    },
    {
     "data": {
      "image/png": "[encoded data removed]",
      "text/plain": [
       "<Figure size 432x288 with 1 Axes>"
      ]
     },
     "metadata": {
      "needs_background": "light"
     },
     "output_type": "display_data"
    }
   ],
   "source": [
    "#Understand The data\n",
    "sns.countplot(x='Label', data = df) #M = malignant B=benign"
   ]
  },
  {
   "cell_type": "markdown",
   "id": "90c1978f",
   "metadata": {},
   "source": [
    "# Replace categorical value with numbers\n"
   ]
  },
  {
   "cell_type": "code",
   "execution_count": 9,
   "id": "d2c585b4",
   "metadata": {},
   "outputs": [
    {
     "name": "stdout",
     "output_type": "stream",
     "text": [
      "Distribution of data:  B    357\n",
      "M    212\n",
      "Name: Label, dtype: int64\n"
     ]
    }
   ],
   "source": [
    "print('Distribution of data: ',df['Label'].value_counts())"
   ]
  },
  {
   "cell_type": "code",
   "execution_count": 10,
   "id": "2d6cc6e1",
   "metadata": {},
   "outputs": [
    {
     "name": "stdout",
     "output_type": "stream",
     "text": [
      "Labels before encoding are:  ['B' 'M']\n"
     ]
    }
   ],
   "source": [
    "#Define the dependent variable that needs to be predicted (labels)\n",
    "y = df['Label'].values\n",
    "print(\"Labels before encoding are: \",np.unique(y))"
   ]
  },
  {
   "cell_type": "code",
   "execution_count": 11,
   "id": "ac8681d9",
   "metadata": {},
   "outputs": [
    {
     "name": "stdout",
     "output_type": "stream",
     "text": [
      "Labels after encoding are:  [0 1]\n"
     ]
    }
   ],
   "source": [
    "#Encoding categorical data from text(B and M) to integers(0 and 1)\n",
    "from sklearn.preprocessing import LabelEncoder\n",
    "labelencoder = LabelEncoder()\n",
    "Y = labelencoder.fit_transform(y) #M=1 and B=0\n",
    "print(\"Labels after encoding are: \",np.unique(Y))"
   ]
  },
  {
   "cell_type": "code",
   "execution_count": 12,
   "id": "9274a3e0",
   "metadata": {},
   "outputs": [
    {
     "name": "stdout",
     "output_type": "stream",
     "text": [
      "                         count        mean         std         min  \\\n",
      "radius_mean              569.0   14.127292    3.524049    6.981000   \n",
      "texture_mean             569.0   19.289649    4.301036    9.710000   \n",
      "perimeter_mean           569.0   91.969033   24.298981   43.790000   \n",
      "area_mean                569.0  654.889104  351.914129  143.500000   \n",
      "smoothness_mean          569.0    0.096360    0.014064    0.052630   \n",
      "compactness_mean         569.0    0.104341    0.052813    0.019380   \n",
      "concavity_mean           569.0    0.088799    0.079720    0.000000   \n",
      "concave points_mean      569.0    0.048919    0.038803    0.000000   \n",
      "symmetry_mean            569.0    0.181162    0.027414    0.106000   \n",
      "fractal_dimension_mean   569.0    0.062798    0.007060    0.049960   \n",
      "radius_se                569.0    0.405172    0.277313    0.111500   \n",
      "texture_se               569.0    1.216853    0.551648    0.360200   \n",
      "perimeter_se             569.0    2.866059    2.021855    0.757000   \n",
      "area_se                  569.0   40.337079   45.491006    6.802000   \n",
      "smoothness_se            569.0    0.007041    0.003003    0.001713   \n",
      "compactness_se           569.0    0.025478    0.017908    0.002252   \n",
      "concavity_se             569.0    0.031894    0.030186    0.000000   \n",
      "concave points_se        569.0    0.011796    0.006170    0.000000   \n",
      "symmetry_se              569.0    0.020542    0.008266    0.007882   \n",
      "fractal_dimension_se     569.0    0.003795    0.002646    0.000895   \n",
      "radius_worst             569.0   16.269190    4.833242    7.930000   \n",
      "texture_worst            569.0   25.677223    6.146258   12.020000   \n",
      "perimeter_worst          569.0  107.261213   33.602542   50.410000   \n",
      "area_worst               569.0  880.583128  569.356993  185.200000   \n",
      "smoothness_worst         569.0    0.132369    0.022832    0.071170   \n",
      "compactness_worst        569.0    0.254265    0.157336    0.027290   \n",
      "concavity_worst          569.0    0.272188    0.208624    0.000000   \n",
      "concave points_worst     569.0    0.114606    0.065732    0.000000   \n",
      "symmetry_worst           569.0    0.290076    0.061867    0.156500   \n",
      "fractal_dimension_worst  569.0    0.083946    0.018061    0.055040   \n",
      "\n",
      "                                25%         50%          75%         max  \n",
      "radius_mean               11.700000   13.370000    15.780000    28.11000  \n",
      "texture_mean              16.170000   18.840000    21.800000    39.28000  \n",
      "perimeter_mean            75.170000   86.240000   104.100000   188.50000  \n",
      "area_mean                420.300000  551.100000   782.700000  2501.00000  \n",
      "smoothness_mean            0.086370    0.095870     0.105300     0.16340  \n",
      "compactness_mean           0.064920    0.092630     0.130400     0.34540  \n",
      "concavity_mean             0.029560    0.061540     0.130700     0.42680  \n",
      "concave points_mean        0.020310    0.033500     0.074000     0.20120  \n",
      "symmetry_mean              0.161900    0.179200     0.195700     0.30400  \n",
      "fractal_dimension_mean     0.057700    0.061540     0.066120     0.09744  \n",
      "radius_se                  0.232400    0.324200     0.478900     2.87300  \n",
      "texture_se                 0.833900    1.108000     1.474000     4.88500  \n",
      "perimeter_se               1.606000    2.287000     3.357000    21.98000  \n",
      "area_se                   17.850000   24.530000    45.190000   542.20000  \n",
      "smoothness_se              0.005169    0.006380     0.008146     0.03113  \n",
      "compactness_se             0.013080    0.020450     0.032450     0.13540  \n",
      "concavity_se               0.015090    0.025890     0.042050     0.39600  \n",
      "concave points_se          0.007638    0.010930     0.014710     0.05279  \n",
      "symmetry_se                0.015160    0.018730     0.023480     0.07895  \n",
      "fractal_dimension_se       0.002248    0.003187     0.004558     0.02984  \n",
      "radius_worst              13.010000   14.970000    18.790000    36.04000  \n",
      "texture_worst             21.080000   25.410000    29.720000    49.54000  \n",
      "perimeter_worst           84.110000   97.660000   125.400000   251.20000  \n",
      "area_worst               515.300000  686.500000  1084.000000  4254.00000  \n",
      "smoothness_worst           0.116600    0.131300     0.146000     0.22260  \n",
      "compactness_worst          0.147200    0.211900     0.339100     1.05800  \n",
      "concavity_worst            0.114500    0.226700     0.382900     1.25200  \n",
      "concave points_worst       0.064930    0.099930     0.161400     0.29100  \n",
      "symmetry_worst             0.250400    0.282200     0.317900     0.66380  \n",
      "fractal_dimension_worst    0.071460    0.080040     0.092080     0.20750  \n"
     ]
    }
   ],
   "source": [
    "# define x and normalize/ scale values\n",
    "\n",
    "# define the independent variables . Drop label and ID, and  normalize other data\n",
    "X = df.drop(labels = ['Label','id','Unnamed: 32'],axis = 1)\n",
    "print(X.describe().T) #Needs scaling"
   ]
  },
  {
   "cell_type": "code",
   "execution_count": 13,
   "id": "e0cdca16",
   "metadata": {},
   "outputs": [
    {
     "name": "stdout",
     "output_type": "stream",
     "text": [
      "[[0.52103744 0.0226581  0.54598853 ... 0.91202749 0.59846245 0.41886396]\n",
      " [0.64314449 0.27257355 0.61578329 ... 0.63917526 0.23358959 0.22287813]\n",
      " [0.60149557 0.3902604  0.59574321 ... 0.83505155 0.40370589 0.21343303]\n",
      " ...\n",
      " [0.45525108 0.62123774 0.44578813 ... 0.48728522 0.12872068 0.1519087 ]\n",
      " [0.64456434 0.66351031 0.66553797 ... 0.91065292 0.49714173 0.45231536]\n",
      " [0.03686876 0.50152181 0.02853984 ... 0.         0.25744136 0.10068215]]\n"
     ]
    }
   ],
   "source": [
    "# for bringing in same range [0-1]\n",
    "\n",
    "#Scale/ normalize the values to bring thmn to similar range\n",
    "from sklearn.preprocessing import MinMaxScaler\n",
    "scaler = MinMaxScaler()\n",
    "scaler.fit(X)\n",
    "X = scaler.transform(X)\n",
    "print(X)  #scaled value"
   ]
  },
  {
   "cell_type": "markdown",
   "id": "f40d2380",
   "metadata": {},
   "source": [
    "# Split train and test dataset"
   ]
  },
  {
   "cell_type": "code",
   "execution_count": 14,
   "id": "325ec39e",
   "metadata": {},
   "outputs": [
    {
     "name": "stdout",
     "output_type": "stream",
     "text": [
      "Shape of training data is:  (426, 30)\n",
      "Shape of testing data is:  (143, 30)\n"
     ]
    }
   ],
   "source": [
    "#split data into train and test to verify accuracy after fitting the model.\n",
    "from sklearn.model_selection import train_test_split\n",
    "X_train,X_test,y_train,y_test = train_test_split(X,Y,test_size = 0.25,random_state=42)\n",
    "print(\"Shape of training data is: \", X_train.shape)\n",
    "print(\"Shape of testing data is: \",X_test.shape)"
   ]
  },
  {
   "cell_type": "markdown",
   "id": "c11df2e7",
   "metadata": {},
   "source": [
    "# Implementation of deep learning\n"
   ]
  },
  {
   "cell_type": "code",
   "execution_count": 15,
   "id": "fa5f9574",
   "metadata": {},
   "outputs": [],
   "source": [
    "from keras.models import Sequential \n",
    "from keras.layers import Dense, Activation, Dropout #layers"
   ]
  },
  {
   "cell_type": "code",
   "execution_count": 16,
   "id": "7f7a316b",
   "metadata": {},
   "outputs": [
    {
     "name": "stdout",
     "output_type": "stream",
     "text": [
      "Model: \"sequential\"\n",
      "_________________________________________________________________\n",
      " Layer (type)                Output Shape              Param #   \n",
      "=================================================================\n",
      " dense (Dense)               (None, 16)                496       \n",
      "                                                                 \n",
      " dropout (Dropout)           (None, 16)                0         \n",
      "                                                                 \n",
      " dense_1 (Dense)             (None, 1)                 17        \n",
      "                                                                 \n",
      " activation (Activation)     (None, 1)                 0         \n",
      "                                                                 \n",
      "=================================================================\n",
      "Total params: 513\n",
      "Trainable params: 513\n",
      "Non-trainable params: 0\n",
      "_________________________________________________________________\n",
      "None\n"
     ]
    }
   ],
   "source": [
    "model = Sequential() #makes easy to add layers\n",
    "model.add(Dense(16,input_dim = 30, activation = 'relu'))#Dense = 16 unit;input_dimension = 30; activation=relu\n",
    "\n",
    "# No. of weights = 16 unitsn* 30inputs = 480\n",
    "#number of biases = 16(total units in hidden layer)\n",
    "#Total parameters = 480+16=496\n",
    "\n",
    "model.add(Dropout(0.2))# to prevent overfitting\n",
    "model.add(Dense(1))\n",
    "model.add(Activation('sigmoid'))\n",
    "model.compile(loss = 'binary_crossentropy',optimizer = 'adam', metrics =['accuracy'])\n",
    "\n",
    "print(model.summary())"
   ]
  },
  {
   "cell_type": "code",
   "execution_count": 21,
   "id": "89ee2e29",
   "metadata": {},
   "outputs": [
    {
     "name": "stdout",
     "output_type": "stream",
     "text": [
      "Epoch 1/100\n",
      "7/7 [==============================] - 1s 68ms/step - loss: 0.7544 - accuracy: 0.3709 - val_loss: 0.7429 - val_accuracy: 0.3497\n",
      "Epoch 2/100\n",
      "7/7 [==============================] - 0s 12ms/step - loss: 0.7341 - accuracy: 0.3709 - val_loss: 0.7216 - val_accuracy: 0.4056\n",
      "Epoch 3/100\n",
      "7/7 [==============================] - 0s 14ms/step - loss: 0.7133 - accuracy: 0.4554 - val_loss: 0.7024 - val_accuracy: 0.4615\n",
      "Epoch 4/100\n",
      "7/7 [==============================] - 0s 15ms/step - loss: 0.6994 - accuracy: 0.5070 - val_loss: 0.6846 - val_accuracy: 0.5524\n",
      "Epoch 5/100\n",
      "7/7 [==============================] - 0s 13ms/step - loss: 0.6855 - accuracy: 0.5258 - val_loss: 0.6678 - val_accuracy: 0.6923\n",
      "Epoch 6/100\n",
      "7/7 [==============================] - 0s 12ms/step - loss: 0.6714 - accuracy: 0.5939 - val_loss: 0.6516 - val_accuracy: 0.7692\n",
      "Epoch 7/100\n",
      "7/7 [==============================] - 0s 15ms/step - loss: 0.6553 - accuracy: 0.6901 - val_loss: 0.6366 - val_accuracy: 0.8392\n",
      "Epoch 8/100\n",
      "7/7 [==============================] - 0s 12ms/step - loss: 0.6390 - accuracy: 0.7488 - val_loss: 0.6219 - val_accuracy: 0.8601\n",
      "Epoch 9/100\n",
      "7/7 [==============================] - 0s 13ms/step - loss: 0.6237 - accuracy: 0.7887 - val_loss: 0.6079 - val_accuracy: 0.8601\n",
      "Epoch 10/100\n",
      "7/7 [==============================] - 0s 15ms/step - loss: 0.6229 - accuracy: 0.7629 - val_loss: 0.5950 - val_accuracy: 0.8741\n",
      "Epoch 11/100\n",
      "7/7 [==============================] - 0s 15ms/step - loss: 0.6051 - accuracy: 0.7958 - val_loss: 0.5825 - val_accuracy: 0.8951\n",
      "Epoch 12/100\n",
      "7/7 [==============================] - 0s 15ms/step - loss: 0.5953 - accuracy: 0.7958 - val_loss: 0.5707 - val_accuracy: 0.9021\n",
      "Epoch 13/100\n",
      "7/7 [==============================] - 0s 14ms/step - loss: 0.5838 - accuracy: 0.8263 - val_loss: 0.5583 - val_accuracy: 0.9091\n",
      "Epoch 14/100\n",
      "7/7 [==============================] - 0s 13ms/step - loss: 0.5743 - accuracy: 0.8380 - val_loss: 0.5459 - val_accuracy: 0.9161\n",
      "Epoch 15/100\n",
      "7/7 [==============================] - 0s 13ms/step - loss: 0.5691 - accuracy: 0.8427 - val_loss: 0.5336 - val_accuracy: 0.9231\n",
      "Epoch 16/100\n",
      "7/7 [==============================] - 0s 17ms/step - loss: 0.5590 - accuracy: 0.8310 - val_loss: 0.5213 - val_accuracy: 0.9231\n",
      "Epoch 17/100\n",
      "7/7 [==============================] - 0s 13ms/step - loss: 0.5448 - accuracy: 0.8498 - val_loss: 0.5091 - val_accuracy: 0.9371\n",
      "Epoch 18/100\n",
      "7/7 [==============================] - 0s 15ms/step - loss: 0.5288 - accuracy: 0.8756 - val_loss: 0.4969 - val_accuracy: 0.9301\n",
      "Epoch 19/100\n",
      "7/7 [==============================] - 0s 12ms/step - loss: 0.5215 - accuracy: 0.8568 - val_loss: 0.4846 - val_accuracy: 0.9231\n",
      "Epoch 20/100\n",
      "7/7 [==============================] - 0s 12ms/step - loss: 0.5107 - accuracy: 0.8732 - val_loss: 0.4720 - val_accuracy: 0.9441\n",
      "Epoch 21/100\n",
      "7/7 [==============================] - 0s 15ms/step - loss: 0.4924 - accuracy: 0.8709 - val_loss: 0.4599 - val_accuracy: 0.9371\n",
      "Epoch 22/100\n",
      "7/7 [==============================] - 0s 13ms/step - loss: 0.4951 - accuracy: 0.8803 - val_loss: 0.4481 - val_accuracy: 0.9371\n",
      "Epoch 23/100\n",
      "7/7 [==============================] - 0s 14ms/step - loss: 0.4812 - accuracy: 0.8638 - val_loss: 0.4367 - val_accuracy: 0.9580\n",
      "Epoch 24/100\n",
      "7/7 [==============================] - 0s 13ms/step - loss: 0.4776 - accuracy: 0.8638 - val_loss: 0.4254 - val_accuracy: 0.9510\n",
      "Epoch 25/100\n",
      "7/7 [==============================] - 0s 13ms/step - loss: 0.4607 - accuracy: 0.8685 - val_loss: 0.4143 - val_accuracy: 0.9441\n",
      "Epoch 26/100\n",
      "7/7 [==============================] - 0s 17ms/step - loss: 0.4416 - accuracy: 0.8944 - val_loss: 0.4033 - val_accuracy: 0.9441\n",
      "Epoch 27/100\n",
      "7/7 [==============================] - 0s 15ms/step - loss: 0.4380 - accuracy: 0.8897 - val_loss: 0.3926 - val_accuracy: 0.9441\n",
      "Epoch 28/100\n",
      "7/7 [==============================] - 0s 14ms/step - loss: 0.4315 - accuracy: 0.8732 - val_loss: 0.3823 - val_accuracy: 0.9441\n",
      "Epoch 29/100\n",
      "7/7 [==============================] - 0s 15ms/step - loss: 0.4155 - accuracy: 0.8944 - val_loss: 0.3722 - val_accuracy: 0.9441\n",
      "Epoch 30/100\n",
      "7/7 [==============================] - 0s 17ms/step - loss: 0.4053 - accuracy: 0.8732 - val_loss: 0.3628 - val_accuracy: 0.9441\n",
      "Epoch 31/100\n",
      "7/7 [==============================] - 0s 13ms/step - loss: 0.4073 - accuracy: 0.8897 - val_loss: 0.3539 - val_accuracy: 0.9371\n",
      "Epoch 32/100\n",
      "7/7 [==============================] - 0s 13ms/step - loss: 0.3922 - accuracy: 0.8897 - val_loss: 0.3449 - val_accuracy: 0.9441\n",
      "Epoch 33/100\n",
      "7/7 [==============================] - 0s 16ms/step - loss: 0.3927 - accuracy: 0.8873 - val_loss: 0.3363 - val_accuracy: 0.9441\n",
      "Epoch 34/100\n",
      "7/7 [==============================] - 0s 14ms/step - loss: 0.3841 - accuracy: 0.8873 - val_loss: 0.3283 - val_accuracy: 0.9510\n",
      "Epoch 35/100\n",
      "7/7 [==============================] - 0s 15ms/step - loss: 0.3734 - accuracy: 0.8967 - val_loss: 0.3214 - val_accuracy: 0.9441\n",
      "Epoch 36/100\n",
      "7/7 [==============================] - 0s 15ms/step - loss: 0.3674 - accuracy: 0.8920 - val_loss: 0.3138 - val_accuracy: 0.9441\n",
      "Epoch 37/100\n",
      "7/7 [==============================] - 0s 13ms/step - loss: 0.3629 - accuracy: 0.8897 - val_loss: 0.3060 - val_accuracy: 0.9441\n",
      "Epoch 38/100\n",
      "7/7 [==============================] - 0s 15ms/step - loss: 0.3472 - accuracy: 0.8920 - val_loss: 0.2988 - val_accuracy: 0.9510\n",
      "Epoch 39/100\n",
      "7/7 [==============================] - 0s 12ms/step - loss: 0.3381 - accuracy: 0.9014 - val_loss: 0.2922 - val_accuracy: 0.9510\n",
      "Epoch 40/100\n",
      "7/7 [==============================] - 0s 12ms/step - loss: 0.3367 - accuracy: 0.9014 - val_loss: 0.2861 - val_accuracy: 0.9510\n",
      "Epoch 41/100\n",
      "7/7 [==============================] - 0s 12ms/step - loss: 0.3253 - accuracy: 0.8967 - val_loss: 0.2799 - val_accuracy: 0.9510\n",
      "Epoch 42/100\n",
      "7/7 [==============================] - 0s 16ms/step - loss: 0.3321 - accuracy: 0.8803 - val_loss: 0.2746 - val_accuracy: 0.9441\n",
      "Epoch 43/100\n",
      "7/7 [==============================] - 0s 15ms/step - loss: 0.3207 - accuracy: 0.9038 - val_loss: 0.2687 - val_accuracy: 0.9510\n",
      "Epoch 44/100\n",
      "7/7 [==============================] - 0s 12ms/step - loss: 0.3190 - accuracy: 0.8967 - val_loss: 0.2639 - val_accuracy: 0.9441\n",
      "Epoch 45/100\n",
      "7/7 [==============================] - 0s 12ms/step - loss: 0.3190 - accuracy: 0.8967 - val_loss: 0.2593 - val_accuracy: 0.9441\n",
      "Epoch 46/100\n",
      "7/7 [==============================] - 0s 15ms/step - loss: 0.3100 - accuracy: 0.8920 - val_loss: 0.2541 - val_accuracy: 0.9441\n",
      "Epoch 47/100\n",
      "7/7 [==============================] - 0s 13ms/step - loss: 0.3127 - accuracy: 0.8944 - val_loss: 0.2498 - val_accuracy: 0.9441\n",
      "Epoch 48/100\n",
      "7/7 [==============================] - 0s 17ms/step - loss: 0.3003 - accuracy: 0.8991 - val_loss: 0.2463 - val_accuracy: 0.9510\n",
      "Epoch 49/100\n",
      "7/7 [==============================] - 0s 15ms/step - loss: 0.3061 - accuracy: 0.9061 - val_loss: 0.2434 - val_accuracy: 0.9510\n",
      "Epoch 50/100\n",
      "7/7 [==============================] - 0s 13ms/step - loss: 0.2931 - accuracy: 0.8967 - val_loss: 0.2385 - val_accuracy: 0.9510\n",
      "Epoch 51/100\n",
      "7/7 [==============================] - 0s 13ms/step - loss: 0.2859 - accuracy: 0.9202 - val_loss: 0.2337 - val_accuracy: 0.9510\n",
      "Epoch 52/100\n",
      "7/7 [==============================] - 0s 15ms/step - loss: 0.2810 - accuracy: 0.8991 - val_loss: 0.2290 - val_accuracy: 0.9510\n",
      "Epoch 53/100\n",
      "7/7 [==============================] - 0s 15ms/step - loss: 0.2822 - accuracy: 0.9108 - val_loss: 0.2255 - val_accuracy: 0.9510\n",
      "Epoch 54/100\n",
      "7/7 [==============================] - 0s 17ms/step - loss: 0.2810 - accuracy: 0.9155 - val_loss: 0.2219 - val_accuracy: 0.9510\n",
      "Epoch 55/100\n",
      "7/7 [==============================] - 0s 15ms/step - loss: 0.2713 - accuracy: 0.9178 - val_loss: 0.2180 - val_accuracy: 0.9510\n",
      "Epoch 56/100\n",
      "7/7 [==============================] - 0s 13ms/step - loss: 0.2647 - accuracy: 0.9178 - val_loss: 0.2148 - val_accuracy: 0.9441\n",
      "Epoch 57/100\n",
      "7/7 [==============================] - 0s 15ms/step - loss: 0.2618 - accuracy: 0.9085 - val_loss: 0.2115 - val_accuracy: 0.9510\n",
      "Epoch 58/100\n",
      "7/7 [==============================] - 0s 15ms/step - loss: 0.2583 - accuracy: 0.9155 - val_loss: 0.2074 - val_accuracy: 0.9510\n",
      "Epoch 59/100\n",
      "7/7 [==============================] - 0s 14ms/step - loss: 0.2560 - accuracy: 0.9131 - val_loss: 0.2044 - val_accuracy: 0.9510\n",
      "Epoch 60/100\n",
      "7/7 [==============================] - 0s 13ms/step - loss: 0.2611 - accuracy: 0.9178 - val_loss: 0.2013 - val_accuracy: 0.9510\n",
      "Epoch 61/100\n",
      "7/7 [==============================] - 0s 13ms/step - loss: 0.2543 - accuracy: 0.9061 - val_loss: 0.1983 - val_accuracy: 0.9580\n",
      "Epoch 62/100\n",
      "7/7 [==============================] - 0s 13ms/step - loss: 0.2530 - accuracy: 0.9038 - val_loss: 0.1950 - val_accuracy: 0.9510\n",
      "Epoch 63/100\n",
      "7/7 [==============================] - 0s 10ms/step - loss: 0.2369 - accuracy: 0.9202 - val_loss: 0.1927 - val_accuracy: 0.9441\n",
      "Epoch 64/100\n",
      "7/7 [==============================] - 0s 13ms/step - loss: 0.2487 - accuracy: 0.8991 - val_loss: 0.1894 - val_accuracy: 0.9510\n",
      "Epoch 65/100\n",
      "7/7 [==============================] - 0s 12ms/step - loss: 0.2404 - accuracy: 0.9085 - val_loss: 0.1873 - val_accuracy: 0.9510\n",
      "Epoch 66/100\n",
      "7/7 [==============================] - 0s 15ms/step - loss: 0.2402 - accuracy: 0.9155 - val_loss: 0.1846 - val_accuracy: 0.9510\n",
      "Epoch 67/100\n",
      "7/7 [==============================] - 0s 15ms/step - loss: 0.2302 - accuracy: 0.9249 - val_loss: 0.1815 - val_accuracy: 0.9510\n",
      "Epoch 68/100\n",
      "7/7 [==============================] - 0s 12ms/step - loss: 0.2309 - accuracy: 0.9225 - val_loss: 0.1786 - val_accuracy: 0.9510\n",
      "Epoch 69/100\n",
      "7/7 [==============================] - 0s 13ms/step - loss: 0.2310 - accuracy: 0.9249 - val_loss: 0.1769 - val_accuracy: 0.9510\n",
      "Epoch 70/100\n",
      "7/7 [==============================] - 0s 13ms/step - loss: 0.2282 - accuracy: 0.9178 - val_loss: 0.1748 - val_accuracy: 0.9510\n",
      "Epoch 71/100\n",
      "7/7 [==============================] - 0s 13ms/step - loss: 0.2191 - accuracy: 0.9366 - val_loss: 0.1718 - val_accuracy: 0.9510\n",
      "Epoch 72/100\n",
      "7/7 [==============================] - 0s 17ms/step - loss: 0.2143 - accuracy: 0.9319 - val_loss: 0.1691 - val_accuracy: 0.9510\n",
      "Epoch 73/100\n",
      "7/7 [==============================] - 0s 15ms/step - loss: 0.2174 - accuracy: 0.9296 - val_loss: 0.1674 - val_accuracy: 0.9510\n",
      "Epoch 74/100\n",
      "7/7 [==============================] - 0s 15ms/step - loss: 0.2195 - accuracy: 0.9202 - val_loss: 0.1679 - val_accuracy: 0.9580\n",
      "Epoch 75/100\n",
      "7/7 [==============================] - 0s 15ms/step - loss: 0.2162 - accuracy: 0.9296 - val_loss: 0.1656 - val_accuracy: 0.9580\n",
      "Epoch 76/100\n",
      "7/7 [==============================] - 0s 15ms/step - loss: 0.2116 - accuracy: 0.9390 - val_loss: 0.1615 - val_accuracy: 0.9510\n",
      "Epoch 77/100\n",
      "7/7 [==============================] - 0s 12ms/step - loss: 0.2088 - accuracy: 0.9343 - val_loss: 0.1597 - val_accuracy: 0.9510\n",
      "Epoch 78/100\n",
      "7/7 [==============================] - 0s 12ms/step - loss: 0.2161 - accuracy: 0.9202 - val_loss: 0.1577 - val_accuracy: 0.9580\n",
      "Epoch 79/100\n",
      "7/7 [==============================] - 0s 12ms/step - loss: 0.2028 - accuracy: 0.9249 - val_loss: 0.1564 - val_accuracy: 0.9580\n",
      "Epoch 80/100\n",
      "7/7 [==============================] - 0s 13ms/step - loss: 0.2122 - accuracy: 0.9343 - val_loss: 0.1552 - val_accuracy: 0.9580\n",
      "Epoch 81/100\n",
      "7/7 [==============================] - 0s 12ms/step - loss: 0.2057 - accuracy: 0.9413 - val_loss: 0.1531 - val_accuracy: 0.9650\n",
      "Epoch 82/100\n",
      "7/7 [==============================] - 0s 13ms/step - loss: 0.2009 - accuracy: 0.9413 - val_loss: 0.1516 - val_accuracy: 0.9580\n",
      "Epoch 83/100\n",
      "7/7 [==============================] - 0s 13ms/step - loss: 0.2084 - accuracy: 0.9296 - val_loss: 0.1501 - val_accuracy: 0.9650\n",
      "Epoch 84/100\n",
      "7/7 [==============================] - 0s 13ms/step - loss: 0.1913 - accuracy: 0.9319 - val_loss: 0.1491 - val_accuracy: 0.9650\n",
      "Epoch 85/100\n",
      "7/7 [==============================] - 0s 15ms/step - loss: 0.1933 - accuracy: 0.9343 - val_loss: 0.1467 - val_accuracy: 0.9650\n",
      "Epoch 86/100\n",
      "7/7 [==============================] - 0s 14ms/step - loss: 0.1946 - accuracy: 0.9249 - val_loss: 0.1442 - val_accuracy: 0.9650\n",
      "Epoch 87/100\n",
      "7/7 [==============================] - 0s 15ms/step - loss: 0.1845 - accuracy: 0.9437 - val_loss: 0.1428 - val_accuracy: 0.9580\n",
      "Epoch 88/100\n",
      "7/7 [==============================] - 0s 15ms/step - loss: 0.1953 - accuracy: 0.9343 - val_loss: 0.1416 - val_accuracy: 0.9650\n",
      "Epoch 89/100\n",
      "7/7 [==============================] - 0s 15ms/step - loss: 0.1885 - accuracy: 0.9413 - val_loss: 0.1407 - val_accuracy: 0.9650\n",
      "Epoch 90/100\n",
      "7/7 [==============================] - 0s 15ms/step - loss: 0.1944 - accuracy: 0.9272 - val_loss: 0.1394 - val_accuracy: 0.9650\n",
      "Epoch 91/100\n",
      "7/7 [==============================] - 0s 15ms/step - loss: 0.1868 - accuracy: 0.9343 - val_loss: 0.1392 - val_accuracy: 0.9720\n",
      "Epoch 92/100\n",
      "7/7 [==============================] - 0s 15ms/step - loss: 0.1806 - accuracy: 0.9343 - val_loss: 0.1366 - val_accuracy: 0.9650\n",
      "Epoch 93/100\n",
      "7/7 [==============================] - 0s 15ms/step - loss: 0.1846 - accuracy: 0.9319 - val_loss: 0.1349 - val_accuracy: 0.9650\n",
      "Epoch 94/100\n",
      "7/7 [==============================] - 0s 13ms/step - loss: 0.1796 - accuracy: 0.9296 - val_loss: 0.1342 - val_accuracy: 0.9720\n",
      "Epoch 95/100\n",
      "7/7 [==============================] - 0s 12ms/step - loss: 0.1704 - accuracy: 0.9437 - val_loss: 0.1335 - val_accuracy: 0.9720\n",
      "Epoch 96/100\n",
      "7/7 [==============================] - 0s 12ms/step - loss: 0.1853 - accuracy: 0.9272 - val_loss: 0.1320 - val_accuracy: 0.9720\n",
      "Epoch 97/100\n",
      "7/7 [==============================] - 0s 13ms/step - loss: 0.1808 - accuracy: 0.9319 - val_loss: 0.1286 - val_accuracy: 0.9580\n",
      "Epoch 98/100\n",
      "7/7 [==============================] - 0s 13ms/step - loss: 0.1728 - accuracy: 0.9390 - val_loss: 0.1280 - val_accuracy: 0.9650\n",
      "Epoch 99/100\n",
      "7/7 [==============================] - 0s 12ms/step - loss: 0.1899 - accuracy: 0.9249 - val_loss: 0.1273 - val_accuracy: 0.9650\n",
      "Epoch 100/100\n",
      "7/7 [==============================] - 0s 12ms/step - loss: 0.1685 - accuracy: 0.9460 - val_loss: 0.1273 - val_accuracy: 0.9720\n"
     ]
    }
   ],
   "source": [
    "# fit with no early stopping or other callbacks\n",
    "#verbose = 1-> display the output\n",
    "#epochs -> part of data\n",
    "#batch_size - >64 data size at time\n",
    "#validation_data = check accuracy\n",
    "history = model.fit(X_train,y_train,verbose = 1,epochs = 100, batch_size = 64,validation_data = (X_test,y_test))"
   ]
  },
  {
   "cell_type": "markdown",
   "id": "87216630",
   "metadata": {},
   "source": [
    "# Result and Implementation"
   ]
  },
  {
   "cell_type": "code",
   "execution_count": 22,
   "id": "5154184c",
   "metadata": {},
   "outputs": [
    {
     "data": {
      "image/png": "[encoded data removed]",
      "text/plain": [
       "<Figure size 432x288 with 1 Axes>"
      ]
     },
     "metadata": {
      "needs_background": "light"
     },
     "output_type": "display_data"
    }
   ],
   "source": [
    "# plot the training and validation accuracy and loss at each epoch\n",
    "loss = history.history['loss']\n",
    "val_loss = history.history['val_loss']\n",
    "epochs = range(1,len(loss)+ 1)\n",
    "plt.plot(epochs,loss,'y',label = 'Training loss')\n",
    "plt.plot(epochs,val_loss,'r',label = \"Validation loss\")\n",
    "plt.title('Training and validation loss')\n",
    "plt.xlabel('Epochs')\n",
    "plt.ylabel('Loss')\n",
    "plt.legend()\n",
    "plt.show()"
   ]
  },
  {
   "cell_type": "code",
   "execution_count": 23,
   "id": "836b8d6b",
   "metadata": {},
   "outputs": [
    {
     "data": {
      "image/png": "[encoded data removed]",
      "text/plain": [
       "<Figure size 432x288 with 1 Axes>"
      ]
     },
     "metadata": {
      "needs_background": "light"
     },
     "output_type": "display_data"
    }
   ],
   "source": [
    "# use accuracy if acc doesn't work\n",
    "acc = history.history['accuracy']\n",
    "val_acc = history.history['val_accuracy']\n",
    "\n",
    "plt.plot(epochs,acc,'y',label = 'Training acc')\n",
    "plt.plot(epochs,val_acc,'r',label = \"Validation acc\")\n",
    "plt.title('Training and validation accuracy')\n",
    "plt.xlabel('Epochs')\n",
    "plt.ylabel('Accuracy')\n",
    "plt.legend()\n",
    "plt.show()"
   ]
  },
  {
   "cell_type": "code",
   "execution_count": 24,
   "id": "24197401",
   "metadata": {},
   "outputs": [
    {
     "data": {
      "text/plain": [
       "<AxesSubplot:>"
      ]
     },
     "execution_count": 24,
     "metadata": {},
     "output_type": "execute_result"
    },
    {
     "data": {
      "image/png": "[encoded data removed]",
      "text/plain": [
       "<Figure size 432x288 with 2 Axes>"
      ]
     },
     "metadata": {
      "needs_background": "light"
     },
     "output_type": "display_data"
    }
   ],
   "source": [
    "#Prediction the test set results\n",
    "y_pred = model.predict(X_test)\n",
    "y_pred = (y_pred > 0.5)\n",
    "\n",
    "\n",
    "# Making the confusion matrix\n",
    "from sklearn.metrics import confusion_matrix\n",
    "cm = confusion_matrix(y_test,y_pred)\n",
    "\n",
    "sns.heatmap(cm,annot = True)"
   ]
  },
  {
   "cell_type": "code",
   "execution_count": 25,
   "id": "55bdebdc",
   "metadata": {},
   "outputs": [
    {
     "name": "stdout",
     "output_type": "stream",
     "text": [
      "              precision    recall  f1-score   support\n",
      "\n",
      "           0       0.98      0.98      0.98        89\n",
      "           1       0.96      0.96      0.96        54\n",
      "\n",
      "    accuracy                           0.97       143\n",
      "   macro avg       0.97      0.97      0.97       143\n",
      "weighted avg       0.97      0.97      0.97       143\n",
      "\n"
     ]
    }
   ],
   "source": [
    "from sklearn.metrics import classification_report\n",
    "print(classification_report(y_test,y_pred))"
   ]
  },
  {
   "cell_type": "code",
   "execution_count": 26,
   "id": "ffaf538a",
   "metadata": {},
   "outputs": [
    {
     "data": {
      "text/plain": [
       "0.972027972027972"
      ]
     },
     "execution_count": 26,
     "metadata": {},
     "output_type": "execute_result"
    }
   ],
   "source": [
    "#from sklearn.metrics import accuracy_score\n",
    "accuracy = accuracy_score(y_test,y_pred)\n",
    "accuracy"
   ]
  },
  {
   "cell_type": "code",
   "execution_count": null,
   "id": "312f10e7",
   "metadata": {},
   "outputs": [],
   "source": []
  }
 ],
 "metadata": {
  "kernelspec": {
   "display_name": "Python 3 (ipykernel)",
   "language": "python",
   "name": "python3"
  },
  "language_info": {
   "codemirror_mode": {
    "name": "ipython",
    "version": 3
   },
   "file_extension": ".py",
   "mimetype": "text/x-python",
   "name": "python",
   "nbconvert_exporter": "python",
   "pygments_lexer": "ipython3",
   "version": "3.9.6"
  }
 },
 "nbformat": 4,
 "nbformat_minor": 5
}
